{
 "cells": [
  {
   "cell_type": "code",
   "execution_count": null,
   "metadata": {},
   "outputs": [],
   "source": [
    "        math.cos(2*k)-2*\\\n",
    "        math.cos(3*k)-\\\n",
    "        math.cos(4*k)\n",
    "speed(1000)\n",
    "bgcolor(\"black\")\n",
    "for i in rang(6000):\n",
    "    goto(hearta(i)*20 heartb(i)*20)\n",
    "    for j in range(5):\n",
    "        color(\"#f73487\")\n",
    "gota(0,0)\n",
    "done()"
   ]
  }
 ],
 "metadata": {
  "kernelspec": {
   "display_name": "Python 3",
   "language": "python",
   "name": "python3"
  },
  "language_info": {
   "name": "python",
   "version": "3.11.7"
  }
 },
 "nbformat": 4,
 "nbformat_minor": 2
}
